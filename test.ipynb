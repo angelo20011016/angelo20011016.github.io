{
 "cells": [
  {
   "cell_type": "code",
   "execution_count": 1,
   "metadata": {},
   "outputs": [
    {
     "name": "stdout",
     "output_type": "stream",
     "text": [
      "hello\n"
     ]
    }
   ],
   "source": [
    "print('hello')"
   ]
  },
  {
   "cell_type": "code",
   "execution_count": 1,
   "metadata": {},
   "outputs": [
    {
     "name": "stdout",
     "output_type": "stream",
     "text": [
      "0ec9692f09a4cf3212d687aa499154414c0560bc6d4b709de60027ae3e743e06\n"
     ]
    }
   ],
   "source": [
    "import secrets\n",
    "secret_key = secrets.token_hex(32)\n",
    "print(secret_key)  # 複製這個值到 .env"
   ]
  },
  {
   "cell_type": "code",
   "execution_count": null,
   "metadata": {},
   "outputs": [
    {
     "data": {
      "text/plain": [
       "360.0"
      ]
     },
     "execution_count": 35,
     "metadata": {},
     "output_type": "execute_result"
    }
   ],
   "source": [
    "def factorial(z):\n",
    "    x1 = 1\n",
    "    for i in range(1,z+1):\n",
    "        x1*=i\n",
    "    return x1\n"
   ]
  },
  {
   "cell_type": "code",
   "execution_count": 1,
   "metadata": {},
   "outputs": [
    {
     "name": "stdout",
     "output_type": "stream",
     "text": [
      "120\n"
     ]
    }
   ],
   "source": [
    "# 階層函數\n",
    "def factorial(z):\n",
    "    x1 = 1\n",
    "    for i in range(1, z + 1):\n",
    "        x1 *= i\n",
    "    return x1\n",
    "\n",
    "def pco(n, m):\n",
    "    return factorial(n) // factorial(n - m)\n",
    "\n",
    "def cco(n, m):\n",
    "    return factorial(n) // (factorial(m) * factorial(n - m))\n",
    "\n",
    "def hco(n, m):\n",
    "    return cco(n + m - 1, m)\n",
    "\n",
    "def total(x, n, m):\n",
    "    # 檢查非負整數\n",
    "    if n < 0 or m < 0:\n",
    "        return \"fail\"\n",
    "\n",
    "    # 檢查數學邏輯合法性\n",
    "    if x == 'P' and n < m:\n",
    "        return \"fail\"\n",
    "    if x == 'C' and n < m:\n",
    "        return \"fail\"\n",
    "\n",
    "    # 根據類型計算\n",
    "    if x == 'P':\n",
    "        return pco(n, m)\n",
    "    elif x == 'C':\n",
    "        return cco(n, m)\n",
    "    elif x == 'H':\n",
    "        return hco(n, m)\n",
    "    else:\n",
    "        return \"fail\"  # 非預期指令\n",
    "\n",
    "# 讀取輸入\n",
    "b = input().split()\n",
    "x = b[0]\n",
    "n = int(b[1])\n",
    "m = int(b[2])\n",
    "\n",
    "# 輸出結果\n",
    "print(total(x, n, m))\n"
   ]
  },
  {
   "cell_type": "code",
   "execution_count": 2,
   "metadata": {},
   "outputs": [
    {
     "name": "stdout",
     "output_type": "stream",
     "text": [
      "5\n"
     ]
    }
   ],
   "source": [
    "def factorial(z):\n",
    "    if z < 0:\n",
    "        return \"fail\"\n",
    "    if z == 0:\n",
    "        return 1\n",
    "    x1 = 1\n",
    "    for i in range(1, z + 1):\n",
    "        x1 *= i\n",
    "    return x1\n",
    "\n",
    "def pco(n, m):\n",
    "    try:\n",
    "        result = factorial(n) // factorial(n - m)\n",
    "        return result\n",
    "    except:\n",
    "        return \"fail\"\n",
    "\n",
    "def cco(n, m):\n",
    "    try:\n",
    "        result = factorial(n) // (factorial(m) * factorial(n - m))\n",
    "        return result\n",
    "    except:\n",
    "        return \"fail\"\n",
    "\n",
    "def hco(n, m):\n",
    "    try:\n",
    "        return cco(n + m - 1, m)\n",
    "    except:\n",
    "        return \"fail\"\n",
    "\n",
    "def total(x, n, m):\n",
    "    # 檢查輸入類型\n",
    "    if not isinstance(n, int) or not isinstance(m, int):\n",
    "        return \"fail\"\n",
    "    \n",
    "    # 檢查非負整數\n",
    "    if n < 0 or m < 0:\n",
    "        return \"fail\"\n",
    "\n",
    "    # 檢查數學邏輯合法性\n",
    "    if (x in ['P', 'C']) and n < m:\n",
    "        return \"fail\"\n",
    "\n",
    "    # 根據類型計算\n",
    "    if x == 'P':\n",
    "        return pco(n, m)\n",
    "    elif x == 'C':\n",
    "        return cco(n, m)\n",
    "    elif x == 'H':\n",
    "        return hco(n, m)\n",
    "    else:\n",
    "        return \"fail\"  # 非預期指令\n",
    "\n",
    "try:\n",
    "    # 讀取輸入\n",
    "    b = input().strip().split()\n",
    "    if len(b) != 3:\n",
    "        print(\"fail\")\n",
    "    else:\n",
    "        x = b[0]\n",
    "        n = int(b[1])\n",
    "        m = int(b[2])\n",
    "        print(total(x, n, m))\n",
    "except:\n",
    "    print(\"fail\")"
   ]
  },
  {
   "cell_type": "code",
   "execution_count": 3,
   "metadata": {},
   "outputs": [
    {
     "name": "stdout",
     "output_type": "stream",
     "text": [
      "開始測試...\n",
      "------------------------------\n",
      "測試輸入: P 5 2\n",
      "實際輸出: 20\n",
      "------------------------------\n",
      "測試輸入: C 5 2\n",
      "實際輸出: 10\n",
      "------------------------------\n",
      "測試輸入: H 3 2\n",
      "實際輸出: 6\n",
      "------------------------------\n",
      "測試輸入: P 2 5\n",
      "實際輸出: fail\n",
      "------------------------------\n",
      "測試輸入: X 5 2\n",
      "實際輸出: fail\n",
      "------------------------------\n",
      "測試輸入: P -1 2\n",
      "實際輸出: fail\n",
      "------------------------------\n"
     ]
    }
   ],
   "source": [
    "# 定義測試案例\n",
    "test_cases = [\n",
    "    \"P 5 2\",    # 期望輸出: 20\n",
    "    \"C 5 2\",    # 期望輸出: 10\n",
    "    \"H 3 2\",    # 期望輸出: 6\n",
    "    \"P 2 5\",    # 期望輸出: \"fail\"\n",
    "    \"X 5 2\",    # 期望輸出: \"fail\"\n",
    "    \"P -1 2\"    # 期望輸出: \"fail\"\n",
    "]\n",
    "\n",
    "# 模擬輸入測試\n",
    "def test_combination():\n",
    "    print(\"開始測試...\")\n",
    "    print(\"-\" * 30)\n",
    "    \n",
    "    for test_input in test_cases:\n",
    "        print(f\"測試輸入: {test_input}\")\n",
    "        # 分割輸入\n",
    "        x, n, m = test_input.split()\n",
    "        # 轉換數字\n",
    "        result = total(x, int(n), int(m))\n",
    "        print(f\"實際輸出: {result}\")\n",
    "        print(\"-\" * 30)\n",
    "\n",
    "# 執行測試\n",
    "test_combination()"
   ]
  },
  {
   "cell_type": "code",
   "execution_count": null,
   "metadata": {},
   "outputs": [
    {
     "name": "stdout",
     "output_type": "stream",
     "text": [
      "['C', ' ', '5', ' ', '3']\n"
     ]
    }
   ],
   "source": []
  },
  {
   "cell_type": "code",
   "execution_count": null,
   "metadata": {},
   "outputs": [],
   "source": []
  }
 ],
 "metadata": {
  "kernelspec": {
   "display_name": "venv",
   "language": "python",
   "name": "python3"
  },
  "language_info": {
   "codemirror_mode": {
    "name": "ipython",
    "version": 3
   },
   "file_extension": ".py",
   "mimetype": "text/x-python",
   "name": "python",
   "nbconvert_exporter": "python",
   "pygments_lexer": "ipython3",
   "version": "3.11.7"
  }
 },
 "nbformat": 4,
 "nbformat_minor": 2
}
